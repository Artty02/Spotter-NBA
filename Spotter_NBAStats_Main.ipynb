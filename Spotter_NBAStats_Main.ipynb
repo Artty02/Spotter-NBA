{
  "nbformat": 4,
  "nbformat_minor": 0,
  "metadata": {
    "colab": {
      "provenance": [],
      "authorship_tag": "ABX9TyNqIM8H8gbVhdAU/3O0aZ/7",
      "include_colab_link": true
    },
    "kernelspec": {
      "name": "python3",
      "display_name": "Python 3"
    },
    "language_info": {
      "name": "python"
    }
  },
  "cells": [
    {
      "cell_type": "markdown",
      "metadata": {
        "id": "view-in-github",
        "colab_type": "text"
      },
      "source": [
        "<a href=\"https://colab.research.google.com/github/ThiwakornC/Spotter-NBA/blob/main/Spotter_NBAStats_Main.ipynb\" target=\"_parent\"><img src=\"https://colab.research.google.com/assets/colab-badge.svg\" alt=\"Open In Colab\"/></a>"
      ]
    },
    {
      "cell_type": "markdown",
      "source": [
        "IMPORT Neccessary Libs"
      ],
      "metadata": {
        "id": "OOgz0-RKk65Q"
      }
    },
    {
      "cell_type": "code",
      "source": [
        "import sys\n",
        "import pandas as pd\n",
        "import numpy as np\n",
        "import IPython\n",
        "from IPython.display import display, Markdown, Latex, HTML, IFrame, JSON, Code, Image, YouTubeVideo, clear_output\n",
        "import matplotlib.pyplot as plt\n",
        "import seaborn as sns"
      ],
      "metadata": {
        "id": "eVpeNdOuTUlF"
      },
      "execution_count": 1,
      "outputs": []
    },
    {
      "cell_type": "markdown",
      "source": [
        "Load and Clean Dataset"
      ],
      "metadata": {
        "id": "Dpmo312dk9xw"
      }
    },
    {
      "cell_type": "code",
      "source": [
        "df_teamtotal = pd.read_csv(\"https://raw.githubusercontent.com/ThiwakornC/Spotter-NBA/refs/heads/main/NBA%20Stats_Dataset/Team%20Totals.csv\")\n",
        "df_teamsummary = pd.read_csv(\"https://raw.githubusercontent.com/ThiwakornC/Spotter-NBA/refs/heads/main/NBA%20Stats_Dataset/Team%20Summaries.csv\")\n",
        "df_playertotal = pd.read_csv(\"https://raw.githubusercontent.com/ThiwakornC/Spotter-NBA/refs/heads/main/NBA%20Stats_Dataset/Player%20Totals.csv\")\n",
        "df_playershoot = pd.read_csv(\"https://raw.githubusercontent.com/ThiwakornC/Spotter-NBA/refs/heads/main/NBA%20Stats_Dataset/Player%20Shooting.csv\")\n",
        "#df_teamtotal.head()\n",
        "df_teamtotal.info()"
      ],
      "metadata": {
        "id": "jupfrpUJlA_v"
      },
      "execution_count": null,
      "outputs": []
    },
    {
      "cell_type": "code",
      "source": [
        "df_teamtotal.count()"
      ],
      "metadata": {
        "id": "jflIUcm8ofIx"
      },
      "execution_count": null,
      "outputs": []
    },
    {
      "cell_type": "code",
      "source": [
        "df_teamtotal.isna()\n",
        "#df_teamtotal.query(\"@df_teamtotal.isna().any(axis=1)\", engine='python').reset_index(drop=True)"
      ],
      "metadata": {
        "id": "YJ42IPqoqIrJ"
      },
      "execution_count": null,
      "outputs": []
    },
    {
      "cell_type": "code",
      "source": [
        "#df_teamtotal2 = df_teamtotal.fillna(\"Unknown\")\n",
        "#df_teamtotal2\n",
        "threshold = len(df_teamtotal) * 0.5  # Calculate the threshold for 50% NA values\n",
        "df_teamtotal2 = df_teamtotal.dropna(thresh=threshold, axis=1)  # Drop columns\n",
        "df_teamtotal2.info()  # Verify the changes (Optional)\n",
        "df_teamtotal2.count()"
      ],
      "metadata": {
        "id": "_AtjnrFjr6jZ"
      },
      "execution_count": null,
      "outputs": []
    },
    {
      "cell_type": "code",
      "source": [
        "df_teamtotal2.duplicated()\n",
        "display(df_teamtotal2.duplicated().value_counts())"
      ],
      "metadata": {
        "id": "9NssGmO3tABR"
      },
      "execution_count": null,
      "outputs": []
    },
    {
      "cell_type": "code",
      "source": [
        "# Group data by experience and calculate the average 3P% for each group\n",
        "grouped_data = df_teamtotal2.groupby('season')['x3p'].mean()\n",
        "grouped_data2 = df_teamtotal2.groupby('season')['x3pa'].mean()\n",
        "\n",
        "# Create a figure and a set of subplots\n",
        "fig, axes = plt.subplots(1, 2, figsize=(12, 6), sharex=True)\n",
        "\n",
        "# Customize the plot\n",
        "axes[0].plot(grouped_data.index, grouped_data.values)\n",
        "axes[0].set_xlabel('Experience (Years)')\n",
        "axes[0].set_ylabel('3 Poins Made')\n",
        "axes[0].set_title('Three Poins Made per Experience')\n",
        "axes[0].grid(True)\n",
        "\n",
        "axes[1].plot(grouped_data2.index, grouped_data2.values, color='orange')  # Different color\n",
        "axes[1].set_xlabel('Experience (Years)')\n",
        "axes[1].set_ylabel('3 Poins Attemp')\n",
        "axes[1].set_title('Three Poins Attemp per Experience')\n",
        "axes[1].grid(True)\n",
        "\n",
        "top_12_x3p = df_teamtotal2.groupby('season')['x3p'].sum().sort_values(ascending=False).head(12)\n",
        "\n",
        "# Create the bar chart\n",
        "plt.figure(figsize=(12, 6))  # Adjust figure size if needed\n",
        "plt.bar(top_12_x3p.index, top_12_x3p.values)\n",
        "\n",
        "# Customize the plot\n",
        "plt.xlabel('Season')\n",
        "plt.ylabel('Total x3p')\n",
        "plt.title('Top 12 Seasons by Total x3p')\n",
        "plt.xticks(rotation=45, ha='right')  # Rotate x-axis labels for better readability\n",
        "plt.tight_layout()\n",
        "\n",
        "# Show the plot\n",
        "plt.tight_layout()\n",
        "plt.show()"
      ],
      "metadata": {
        "id": "JzJL33JUwBR8"
      },
      "execution_count": null,
      "outputs": []
    },
    {
      "cell_type": "code",
      "source": [
        "# Filter data for the year 2024\n",
        "data_2024 = df_teamtotal2[df_teamtotal2['season'] == 2024]\n",
        "\n",
        "# Assuming 'team' is the column containing team names\n",
        "# Remove rows where 'team' is equal to 'TOT' (or whatever represents the total value)\n",
        "data_2024 = data_2024[data_2024['tm'] != 'TOT']\n",
        "\n",
        "# Group by team and sum x3p\n",
        "team_x3p_2024 = data_2024.groupby('tm')['x3p'].sum()\n",
        "\n",
        "# Create the bar chart\n",
        "plt.figure(figsize=(12, 6))  # Adjust figure size as needed\n",
        "plt.bar(team_x3p_2024.index, team_x3p_2024.values)\n",
        "\n",
        "# Customize the plot\n",
        "plt.xlabel('Team')\n",
        "plt.ylabel('Total x3p')\n",
        "plt.title('Total x3p by Team in 2024')\n",
        "plt.xticks(rotation=45, ha='right')  # Rotate x-axis labels for readability\n",
        "plt.tight_layout()"
      ],
      "metadata": {
        "id": "LCzj2OTo21FL"
      },
      "execution_count": null,
      "outputs": []
    }
  ]
}